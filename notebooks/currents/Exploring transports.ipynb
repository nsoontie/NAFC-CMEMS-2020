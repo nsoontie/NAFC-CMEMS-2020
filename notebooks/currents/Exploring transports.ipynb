{
 "cells": [
  {
   "cell_type": "markdown",
   "id": "03a71e7c",
   "metadata": {},
   "source": [
    "This is a notebook to explore transport calculations.\n",
    "\n",
    "Plan\n",
    "* interolate currents to transect\n",
    "* find perpendicular component of currents at each point on transect\n",
    "* sum over all transects pieces"
   ]
  },
  {
   "cell_type": "code",
   "execution_count": 1,
   "id": "2f00df5d",
   "metadata": {},
   "outputs": [],
   "source": [
    "import os\n",
    "import glob\n",
    "\n",
    "from geopy.distance import distance\n",
    "import matplotlib.pyplot as plt\n",
    "import numpy as np\n",
    "import pandas as pd\n",
    "import xarray as xr\n",
    "%matplotlib inline"
   ]
  },
  {
   "cell_type": "markdown",
   "id": "211c9fef",
   "metadata": {},
   "source": [
    "# Data loading"
   ]
  },
  {
   "cell_type": "code",
   "execution_count": 2,
   "id": "c7226154",
   "metadata": {},
   "outputs": [],
   "source": [
    "data_dir='/ocean/handres/glorys12/'\n",
    "mask = xr.open_dataset(os.path.join(data_dir,'statics_subset_mask_bathy.nc'))\n",
    "coords = xr.open_dataset(os.path.join(data_dir,'statics_subset_coordinates.nc'))"
   ]
  },
  {
   "cell_type": "code",
   "execution_count": 3,
   "id": "635b3938",
   "metadata": {},
   "outputs": [],
   "source": [
    "year='2003'\n",
    "month='01'\n",
    "f = glob.glob(os.path.join(data_dir,f'*{year}_daily{month}.nc'))\n",
    "d = xr.open_mfdataset(f)"
   ]
  },
  {
   "cell_type": "code",
   "execution_count": 4,
   "id": "0b14e1ab",
   "metadata": {},
   "outputs": [],
   "source": [
    "transects = pd.read_csv('../../data/sections_info.txt', delim_whitespace=True,\n",
    "                       names=['Shortname', 'Longname', 'lon1', 'lat1', 'lon2', 'lat2', 'Dir-E', 'Dir-N'],\n",
    "                       header=0)"
   ]
  },
  {
   "cell_type": "code",
   "execution_count": 5,
   "id": "f7969763",
   "metadata": {},
   "outputs": [
    {
     "data": {
      "text/html": [
       "<div>\n",
       "<style scoped>\n",
       "    .dataframe tbody tr th:only-of-type {\n",
       "        vertical-align: middle;\n",
       "    }\n",
       "\n",
       "    .dataframe tbody tr th {\n",
       "        vertical-align: top;\n",
       "    }\n",
       "\n",
       "    .dataframe thead th {\n",
       "        text-align: right;\n",
       "    }\n",
       "</style>\n",
       "<table border=\"1\" class=\"dataframe\">\n",
       "  <thead>\n",
       "    <tr style=\"text-align: right;\">\n",
       "      <th></th>\n",
       "      <th>Shortname</th>\n",
       "      <th>Longname</th>\n",
       "      <th>lon1</th>\n",
       "      <th>lat1</th>\n",
       "      <th>lon2</th>\n",
       "      <th>lat2</th>\n",
       "      <th>Dir-E</th>\n",
       "      <th>Dir-N</th>\n",
       "    </tr>\n",
       "  </thead>\n",
       "  <tbody>\n",
       "    <tr>\n",
       "      <th>0</th>\n",
       "      <td>Ac</td>\n",
       "      <td>Anticosti</td>\n",
       "      <td>-64.800000</td>\n",
       "      <td>49.000000</td>\n",
       "      <td>-64.420000</td>\n",
       "      <td>49.900000</td>\n",
       "      <td>1</td>\n",
       "      <td>-1</td>\n",
       "    </tr>\n",
       "    <tr>\n",
       "      <th>1</th>\n",
       "      <td>BB_AZMP</td>\n",
       "      <td>BB-AZMP</td>\n",
       "      <td>-65.515182</td>\n",
       "      <td>43.542454</td>\n",
       "      <td>-65.414833</td>\n",
       "      <td>41.822609</td>\n",
       "      <td>-1</td>\n",
       "      <td>1</td>\n",
       "    </tr>\n",
       "    <tr>\n",
       "      <th>2</th>\n",
       "      <td>Bv</td>\n",
       "      <td>Bonavista</td>\n",
       "      <td>-53.070000</td>\n",
       "      <td>48.630000</td>\n",
       "      <td>-49.000000</td>\n",
       "      <td>50.000000</td>\n",
       "      <td>1</td>\n",
       "      <td>-1</td>\n",
       "    </tr>\n",
       "    <tr>\n",
       "      <th>3</th>\n",
       "      <td>BB</td>\n",
       "      <td>Bonne-Bay</td>\n",
       "      <td>-59.930000</td>\n",
       "      <td>50.590000</td>\n",
       "      <td>-57.990000</td>\n",
       "      <td>49.330000</td>\n",
       "      <td>-1</td>\n",
       "      <td>-1</td>\n",
       "    </tr>\n",
       "    <tr>\n",
       "      <th>4</th>\n",
       "      <td>CSI</td>\n",
       "      <td>CSI</td>\n",
       "      <td>-65.585000</td>\n",
       "      <td>43.469000</td>\n",
       "      <td>-66.008000</td>\n",
       "      <td>42.544000</td>\n",
       "      <td>-1</td>\n",
       "      <td>1</td>\n",
       "    </tr>\n",
       "    <tr>\n",
       "      <th>5</th>\n",
       "      <td>CS</td>\n",
       "      <td>Cabot-Strait</td>\n",
       "      <td>-60.620000</td>\n",
       "      <td>46.960000</td>\n",
       "      <td>-59.000000</td>\n",
       "      <td>47.800000</td>\n",
       "      <td>1</td>\n",
       "      <td>-1</td>\n",
       "    </tr>\n",
       "    <tr>\n",
       "      <th>6</th>\n",
       "      <td>Es</td>\n",
       "      <td>Estuary</td>\n",
       "      <td>-68.490000</td>\n",
       "      <td>48.300000</td>\n",
       "      <td>-68.750000</td>\n",
       "      <td>49.100000</td>\n",
       "      <td>1</td>\n",
       "      <td>1</td>\n",
       "    </tr>\n",
       "    <tr>\n",
       "      <th>7</th>\n",
       "      <td>FC</td>\n",
       "      <td>Flemish-Cap</td>\n",
       "      <td>-52.930000</td>\n",
       "      <td>47.000000</td>\n",
       "      <td>-43.000000</td>\n",
       "      <td>47.000000</td>\n",
       "      <td>-1</td>\n",
       "      <td>-1</td>\n",
       "    </tr>\n",
       "    <tr>\n",
       "      <th>8</th>\n",
       "      <td>Hfx</td>\n",
       "      <td>Halifax</td>\n",
       "      <td>-63.460000</td>\n",
       "      <td>44.700000</td>\n",
       "      <td>-61.400000</td>\n",
       "      <td>42.530000</td>\n",
       "      <td>-1</td>\n",
       "      <td>-1</td>\n",
       "    </tr>\n",
       "    <tr>\n",
       "      <th>9</th>\n",
       "      <td>Lb</td>\n",
       "      <td>Louisbourg</td>\n",
       "      <td>-59.850000</td>\n",
       "      <td>46.030000</td>\n",
       "      <td>-57.530000</td>\n",
       "      <td>43.470000</td>\n",
       "      <td>-1</td>\n",
       "      <td>-1</td>\n",
       "    </tr>\n",
       "    <tr>\n",
       "      <th>10</th>\n",
       "      <td>Mag</td>\n",
       "      <td>Magdalen</td>\n",
       "      <td>-65.050000</td>\n",
       "      <td>47.630000</td>\n",
       "      <td>-60.500000</td>\n",
       "      <td>46.750000</td>\n",
       "      <td>-1</td>\n",
       "      <td>-1</td>\n",
       "    </tr>\n",
       "    <tr>\n",
       "      <th>11</th>\n",
       "      <td>MCSB</td>\n",
       "      <td>MCSB</td>\n",
       "      <td>-55.516735</td>\n",
       "      <td>45.272204</td>\n",
       "      <td>-55.409644</td>\n",
       "      <td>45.009046</td>\n",
       "      <td>-1</td>\n",
       "      <td>-1</td>\n",
       "    </tr>\n",
       "    <tr>\n",
       "      <th>12</th>\n",
       "      <td>NEC</td>\n",
       "      <td>NEC</td>\n",
       "      <td>-65.845100</td>\n",
       "      <td>42.474100</td>\n",
       "      <td>-66.164800</td>\n",
       "      <td>41.959700</td>\n",
       "      <td>-1</td>\n",
       "      <td>1</td>\n",
       "    </tr>\n",
       "    <tr>\n",
       "      <th>13</th>\n",
       "      <td>SBI</td>\n",
       "      <td>Belle-Isle</td>\n",
       "      <td>-56.254701</td>\n",
       "      <td>51.907072</td>\n",
       "      <td>-56.119010</td>\n",
       "      <td>51.371217</td>\n",
       "      <td>-1</td>\n",
       "      <td>-1</td>\n",
       "    </tr>\n",
       "    <tr>\n",
       "      <th>14</th>\n",
       "      <td>SI</td>\n",
       "      <td>Seal-Isle</td>\n",
       "      <td>-55.917366</td>\n",
       "      <td>53.146169</td>\n",
       "      <td>-52.007608</td>\n",
       "      <td>54.392137</td>\n",
       "      <td>1</td>\n",
       "      <td>-1</td>\n",
       "    </tr>\n",
       "    <tr>\n",
       "      <th>15</th>\n",
       "      <td>SE_GB</td>\n",
       "      <td>SE-Grand-Banks</td>\n",
       "      <td>-53.130000</td>\n",
       "      <td>46.780000</td>\n",
       "      <td>-49.520000</td>\n",
       "      <td>42.400000</td>\n",
       "      <td>-1</td>\n",
       "      <td>-1</td>\n",
       "    </tr>\n",
       "    <tr>\n",
       "      <th>16</th>\n",
       "      <td>7I</td>\n",
       "      <td>Sept-Iles</td>\n",
       "      <td>-66.200000</td>\n",
       "      <td>49.000000</td>\n",
       "      <td>-66.420000</td>\n",
       "      <td>50.400000</td>\n",
       "      <td>1</td>\n",
       "      <td>1</td>\n",
       "    </tr>\n",
       "    <tr>\n",
       "      <th>17</th>\n",
       "      <td>AR7W_E</td>\n",
       "      <td>AR7W-east</td>\n",
       "      <td>-47.900000</td>\n",
       "      <td>60.700000</td>\n",
       "      <td>-51.210000</td>\n",
       "      <td>57.667000</td>\n",
       "      <td>-1</td>\n",
       "      <td>1</td>\n",
       "    </tr>\n",
       "    <tr>\n",
       "      <th>18</th>\n",
       "      <td>AR7W_W</td>\n",
       "      <td>AR7W-west</td>\n",
       "      <td>-55.900000</td>\n",
       "      <td>53.350000</td>\n",
       "      <td>-51.210000</td>\n",
       "      <td>57.667000</td>\n",
       "      <td>1</td>\n",
       "      <td>-1</td>\n",
       "    </tr>\n",
       "    <tr>\n",
       "      <th>19</th>\n",
       "      <td>AR7W</td>\n",
       "      <td>AR7W</td>\n",
       "      <td>-55.900000</td>\n",
       "      <td>53.350000</td>\n",
       "      <td>-47.900000</td>\n",
       "      <td>60.700000</td>\n",
       "      <td>1</td>\n",
       "      <td>-1</td>\n",
       "    </tr>\n",
       "    <tr>\n",
       "      <th>20</th>\n",
       "      <td>CG</td>\n",
       "      <td>Central-GSL</td>\n",
       "      <td>-62.273000</td>\n",
       "      <td>48.010000</td>\n",
       "      <td>-61.610000</td>\n",
       "      <td>48.792000</td>\n",
       "      <td>1</td>\n",
       "      <td>-1</td>\n",
       "    </tr>\n",
       "  </tbody>\n",
       "</table>\n",
       "</div>"
      ],
      "text/plain": [
       "   Shortname        Longname       lon1       lat1       lon2       lat2  \\\n",
       "0         Ac       Anticosti -64.800000  49.000000 -64.420000  49.900000   \n",
       "1    BB_AZMP         BB-AZMP -65.515182  43.542454 -65.414833  41.822609   \n",
       "2         Bv       Bonavista -53.070000  48.630000 -49.000000  50.000000   \n",
       "3         BB       Bonne-Bay -59.930000  50.590000 -57.990000  49.330000   \n",
       "4        CSI             CSI -65.585000  43.469000 -66.008000  42.544000   \n",
       "5         CS    Cabot-Strait -60.620000  46.960000 -59.000000  47.800000   \n",
       "6         Es         Estuary -68.490000  48.300000 -68.750000  49.100000   \n",
       "7         FC     Flemish-Cap -52.930000  47.000000 -43.000000  47.000000   \n",
       "8        Hfx         Halifax -63.460000  44.700000 -61.400000  42.530000   \n",
       "9         Lb      Louisbourg -59.850000  46.030000 -57.530000  43.470000   \n",
       "10       Mag        Magdalen -65.050000  47.630000 -60.500000  46.750000   \n",
       "11      MCSB            MCSB -55.516735  45.272204 -55.409644  45.009046   \n",
       "12       NEC             NEC -65.845100  42.474100 -66.164800  41.959700   \n",
       "13       SBI      Belle-Isle -56.254701  51.907072 -56.119010  51.371217   \n",
       "14        SI       Seal-Isle -55.917366  53.146169 -52.007608  54.392137   \n",
       "15     SE_GB  SE-Grand-Banks -53.130000  46.780000 -49.520000  42.400000   \n",
       "16        7I       Sept-Iles -66.200000  49.000000 -66.420000  50.400000   \n",
       "17    AR7W_E       AR7W-east -47.900000  60.700000 -51.210000  57.667000   \n",
       "18    AR7W_W       AR7W-west -55.900000  53.350000 -51.210000  57.667000   \n",
       "19      AR7W            AR7W -55.900000  53.350000 -47.900000  60.700000   \n",
       "20        CG     Central-GSL -62.273000  48.010000 -61.610000  48.792000   \n",
       "\n",
       "    Dir-E  Dir-N  \n",
       "0       1     -1  \n",
       "1      -1      1  \n",
       "2       1     -1  \n",
       "3      -1     -1  \n",
       "4      -1      1  \n",
       "5       1     -1  \n",
       "6       1      1  \n",
       "7      -1     -1  \n",
       "8      -1     -1  \n",
       "9      -1     -1  \n",
       "10     -1     -1  \n",
       "11     -1     -1  \n",
       "12     -1      1  \n",
       "13     -1     -1  \n",
       "14      1     -1  \n",
       "15     -1     -1  \n",
       "16      1      1  \n",
       "17     -1      1  \n",
       "18      1     -1  \n",
       "19      1     -1  \n",
       "20      1     -1  "
      ]
     },
     "execution_count": 5,
     "metadata": {},
     "output_type": "execute_result"
    }
   ],
   "source": [
    "transects"
   ]
  },
  {
   "cell_type": "markdown",
   "id": "2d8bfd26",
   "metadata": {},
   "source": [
    "# Supporting functions\n",
    "\n",
    "## integration and interpolation"
   ]
  },
  {
   "cell_type": "code",
   "execution_count": 6,
   "id": "80d3142b",
   "metadata": {},
   "outputs": [],
   "source": [
    "def depth_integrate(var, mask, e3t, depth_axis=0):\n",
    "    \"\"\"Return depth integrated variable\n",
    "    \"\"\"\n",
    "    return np.sum(var*mask*e3t, axis=depth_axis)"
   ]
  },
  {
   "cell_type": "code",
   "execution_count": 7,
   "id": "1e34cdaf",
   "metadata": {},
   "outputs": [],
   "source": [
    "ubar = depth_integrate(d.uo, mask.mask, coords.e3t, depth_axis=1)"
   ]
  },
  {
   "cell_type": "code",
   "execution_count": 8,
   "id": "42a5cda8",
   "metadata": {},
   "outputs": [],
   "source": [
    "vbar = depth_integrate(d.vo, mask.mask, coords.e3t, depth_axis=1)"
   ]
  },
  {
   "cell_type": "code",
   "execution_count": 9,
   "id": "dcc06e39",
   "metadata": {},
   "outputs": [],
   "source": [
    "def interpolate_transect(var, lons, lats,method='linear'):\n",
    "    lons = xr.DataArray(lons, dims='transect')\n",
    "    lats = xr.DataArray(lats, dims='transect')\n",
    "    return var.interp(longitude=lons,latitude=lats,method=method)"
   ]
  },
  {
   "cell_type": "code",
   "execution_count": 10,
   "id": "a683aa45",
   "metadata": {},
   "outputs": [],
   "source": [
    "lon1=transects[transects.Shortname=='SBI'].lon1.values[0]\n",
    "lon2=transects[transects.Shortname=='SBI'].lon2.values[0]\n",
    "lat1=transects[transects.Shortname=='SBI'].lat1.values[0]\n",
    "lat2=transects[transects.Shortname=='SBI'].lat2.values[0]"
   ]
  },
  {
   "cell_type": "code",
   "execution_count": 11,
   "id": "c92ad2ec",
   "metadata": {},
   "outputs": [],
   "source": [
    "num=100\n",
    "lons = np.linspace(lon1, lon2)\n",
    "lats = np.linspace(lat1, lat2)\n",
    "ubar_interp = interpolate_transect(ubar,lons, lats)\n",
    "vbar_interp = interpolate_transect(vbar,lons, lats)"
   ]
  },
  {
   "cell_type": "code",
   "execution_count": 12,
   "id": "dceb1f51",
   "metadata": {},
   "outputs": [
    {
     "data": {
      "text/plain": [
       "<matplotlib.collections.QuadMesh at 0x7f28d75a45e0>"
      ]
     },
     "execution_count": 12,
     "metadata": {},
     "output_type": "execute_result"
    },
    {
     "data": {
      "image/png": "[encoded data removed]",
      "text/plain": [
       "<Figure size 432x288 with 2 Axes>"
      ]
     },
     "metadata": {
      "needs_background": "light"
     },
     "output_type": "display_data"
    }
   ],
   "source": [
    "ubar_interp.plot()"
   ]
  },
  {
   "cell_type": "code",
   "execution_count": 13,
   "id": "6ec564ff",
   "metadata": {},
   "outputs": [
    {
     "data": {
      "text/plain": [
       "<matplotlib.collections.QuadMesh at 0x7f28d73d7880>"
      ]
     },
     "execution_count": 13,
     "metadata": {},
     "output_type": "execute_result"
    },
    {
     "data": {
      "image/png": "[encoded data removed]",
      "text/plain": [
       "<Figure size 432x288 with 2 Axes>"
      ]
     },
     "metadata": {
      "needs_background": "light"
     },
     "output_type": "display_data"
    }
   ],
   "source": [
    "vbar_interp.plot()"
   ]
  },
  {
   "cell_type": "markdown",
   "id": "109bc967",
   "metadata": {},
   "source": [
    "## projections"
   ]
  },
  {
   "cell_type": "code",
   "execution_count": 14,
   "id": "af8e07ec",
   "metadata": {},
   "outputs": [],
   "source": [
    "def dot(a,b):\n",
    "    \"\"\"dot product between vectors a, b where a and b are complex\"\"\"\n",
    "    return np.real(a)*np.real(b) + np.imag(a)*np.imag(b)"
   ]
  },
  {
   "cell_type": "code",
   "execution_count": 15,
   "id": "857c833c",
   "metadata": {},
   "outputs": [],
   "source": [
    "def proj_vector(vector, ref_vector):\n",
    "    \"\"\"project vector onto ref_vector, where vector and ref_vector are complex numbers\"\"\"\n",
    "    return (dot(vector, ref_vector)/dot(ref_vector, ref_vector)*ref_vector)"
   ]
  },
  {
   "cell_type": "code",
   "execution_count": 16,
   "id": "b12cc937",
   "metadata": {},
   "outputs": [],
   "source": [
    "def proj_vector_perp(vector, ref_vector):\n",
    "    \"\"\"project vector onto the vector rotated 90 deg CCW from ref_vector\"\"\"\n",
    "    return proj_vector(vector, 1j*ref_vector)"
   ]
  },
  {
   "cell_type": "code",
   "execution_count": 17,
   "id": "f83d1cc5",
   "metadata": {},
   "outputs": [],
   "source": [
    "def change_axis(vector, ref_vector):\n",
    "    \"\"\"Rotate vector to along and across components of ref_vector\"\"\"\n",
    "    along = np.sign(dot(vector, ref_vector))*np.abs(proj_vector(vector, ref_vector))\n",
    "    across = np.sign(dot(vector, 1j*ref_vector))*np.abs(proj_vector_perp(vector, ref_vector))\n",
    "    return along + 1j*across"
   ]
  },
  {
   "cell_type": "markdown",
   "id": "6d64076c",
   "metadata": {},
   "source": [
    "## transects and distances"
   ]
  },
  {
   "cell_type": "code",
   "execution_count": 18,
   "id": "22fac912",
   "metadata": {},
   "outputs": [],
   "source": [
    "def vectorize_transect(lons, lats, dir_east_perp, dir_north_perp):\n",
    "    across_vector = dir_east_perp + 1j*dir_north_perp\n",
    "    along_vector  = -1j*across_vector # rotate 90 CW to get along vector\n",
    "    dir_east_along = np.real(along_vector)\n",
    "    dir_north_along = np.imag(along_vector)\n",
    "    n = len(lons) - 1\n",
    "    vector = np.empty((n,),dtype=complex)\n",
    "    for i in range(n):\n",
    "        x = distance((lons[i], lats[i]), (lons[i+1], lats[i])).m\n",
    "        y = distance((lons[i], lats[i]), (lons[i], lats[i+1])).m\n",
    "        vector[i] = dir_east_along*x + dir_north_along*1j*y\n",
    "    return vector"
   ]
  },
  {
   "cell_type": "code",
   "execution_count": 19,
   "id": "59d8ca07",
   "metadata": {},
   "outputs": [],
   "source": [
    "dir_east_perp = transects[transects.Shortname=='SBI']['Dir-E'].values[0]\n",
    "dir_north_perp = transects[transects.Shortname=='SBI']['Dir-N'].values[0]"
   ]
  },
  {
   "cell_type": "code",
   "execution_count": 20,
   "id": "90909b80",
   "metadata": {},
   "outputs": [],
   "source": [
    "def calculate_transport(u_transect, v_transect, dir_east_perp, dir_north_perp, barotropic=True,\n",
    "                        mask_transect=None, e3t_transect=None):\n",
    "    lons = u_transect.longitude\n",
    "    lats = u_transect.latitude\n",
    "    transect = vectorize_transect(lons, lats,  dir_east_perp, dir_north_perp)\n",
    "    n = len(transect)\n",
    "    transport = 0\n",
    "    for i in range(n):\n",
    "        vel = u_transect.isel(transect=i) +1j*v_transect.isel(transect=i)\n",
    "        ref_vector = transect[i]\n",
    "        rotated_vel = change_axis(vel, ref_vector)\n",
    "        if not barotropic:\n",
    "            rotated_vel = depth_integrate(rotated_vel, \n",
    "                                          mask_transect.isel(transect=i), \n",
    "                                          e3t_transect.isel(transect=i),\n",
    "                                          depth_axis=1) \n",
    "        transport += np.imag(rotated_vel)*np.abs(ref_vector)\n",
    "    return transport"
   ]
  },
  {
   "cell_type": "markdown",
   "id": "f048d712",
   "metadata": {},
   "source": [
    "# Depth-averaged (or barotropic) transport"
   ]
  },
  {
   "cell_type": "code",
   "execution_count": 21,
   "id": "17b56d52",
   "metadata": {},
   "outputs": [],
   "source": [
    "transport_bar = calculate_transport(ubar_interp, vbar_interp, dir_east_perp, dir_north_perp)\n"
   ]
  },
  {
   "cell_type": "code",
   "execution_count": 22,
   "id": "19c42b86",
   "metadata": {},
   "outputs": [
    {
     "data": {
      "text/plain": [
       "array([ 0.49881258,  0.43130181,  0.51503199,  0.68400166,  0.66473655,\n",
       "        0.61958057,  0.44147292,  0.43963391,  0.2334274 ,  0.0010556 ,\n",
       "       -0.03788066,  0.06949666,  0.04625087,  0.16563287,  0.34812188,\n",
       "        0.32812208,  0.41623049,  0.34789469,  0.33730773,  0.28940522,\n",
       "        0.4719581 ,  0.38375144,  0.48150731,  0.31545748,  0.51488096,\n",
       "        0.41447386,  0.14249879, -0.07443702, -0.02827249, -0.18985827,\n",
       "       -0.13305247])"
      ]
     },
     "execution_count": 22,
     "metadata": {},
     "output_type": "execute_result"
    }
   ],
   "source": [
    "transport_bar.values/1e6"
   ]
  },
  {
   "cell_type": "code",
   "execution_count": 23,
   "id": "f26b672e",
   "metadata": {},
   "outputs": [
    {
     "data": {
      "text/plain": [
       "0.29479175795463664"
      ]
     },
     "execution_count": 23,
     "metadata": {},
     "output_type": "execute_result"
    }
   ],
   "source": [
    "np.mean(transport_bar.values/1e6)"
   ]
  },
  {
   "cell_type": "code",
   "execution_count": 24,
   "id": "e1f7194b",
   "metadata": {},
   "outputs": [
    {
     "data": {
      "text/plain": [
       "[<matplotlib.lines.Line2D at 0x7f2871ad6670>]"
      ]
     },
     "execution_count": 24,
     "metadata": {},
     "output_type": "execute_result"
    },
    {
     "data": {
      "image/png": "[encoded data removed]",
      "text/plain": [
       "<Figure size 432x288 with 1 Axes>"
      ]
     },
     "metadata": {
      "needs_background": "light"
     },
     "output_type": "display_data"
    }
   ],
   "source": [
    "(transport_bar/1e6).plot()"
   ]
  },
  {
   "cell_type": "markdown",
   "id": "3427e17c",
   "metadata": {},
   "source": [
    "# Now full transport (as opposed to barotropic)"
   ]
  },
  {
   "cell_type": "code",
   "execution_count": 25,
   "id": "37351c50",
   "metadata": {},
   "outputs": [],
   "source": [
    "u_interp = interpolate_transect(d.uo,lons, lats)\n",
    "v_interp = interpolate_transect(d.vo,lons, lats)\n",
    "mask_interp = interpolate_transect(mask.mask, lons, lats, method='nearest')\n",
    "e3t_interp = interpolate_transect(coords.e3t, lons, lats)"
   ]
  },
  {
   "cell_type": "code",
   "execution_count": 26,
   "id": "5c6105eb",
   "metadata": {},
   "outputs": [],
   "source": [
    "\n",
    "transport= calculate_transport(u_interp, v_interp, dir_east_perp, dir_north_perp, barotropic=False,\n",
    "                               mask_transect=mask_interp, e3t_transect=e3t_interp)"
   ]
  },
  {
   "cell_type": "code",
   "execution_count": 27,
   "id": "e194aaa9",
   "metadata": {},
   "outputs": [
    {
     "data": {
      "text/plain": [
       "array([ 0.31744869,  0.27312694,  0.32646835,  0.43402281,  0.42001369,\n",
       "        0.39370072,  0.27930858,  0.27328275,  0.14803712,  0.00874438,\n",
       "       -0.01395369,  0.0469953 ,  0.03260491,  0.10240368,  0.2144324 ,\n",
       "        0.20420614,  0.25860433,  0.21732018,  0.21302548,  0.18100204,\n",
       "        0.29398056,  0.23709746,  0.29741687,  0.19554053,  0.31921535,\n",
       "        0.25864399,  0.08942379, -0.04031078, -0.01299037, -0.11353824,\n",
       "       -0.08223958])"
      ]
     },
     "execution_count": 27,
     "metadata": {},
     "output_type": "execute_result"
    }
   ],
   "source": [
    "transport.values/1e6"
   ]
  },
  {
   "cell_type": "code",
   "execution_count": 28,
   "id": "46c1ef86",
   "metadata": {},
   "outputs": [
    {
     "data": {
      "text/plain": [
       "0.1862269164322763"
      ]
     },
     "execution_count": 28,
     "metadata": {},
     "output_type": "execute_result"
    }
   ],
   "source": [
    "np.mean(transport.values/1e6)"
   ]
  },
  {
   "cell_type": "code",
   "execution_count": 29,
   "id": "d840acb5",
   "metadata": {},
   "outputs": [
    {
     "data": {
      "text/plain": [
       "[<matplotlib.lines.Line2D at 0x7f284c595730>]"
      ]
     },
     "execution_count": 29,
     "metadata": {},
     "output_type": "execute_result"
    },
    {
     "data": {
      "image/png": "[encoded data removed]",
      "text/plain": [
       "<Figure size 432x288 with 1 Axes>"
      ]
     },
     "metadata": {
      "needs_background": "light"
     },
     "output_type": "display_data"
    }
   ],
   "source": [
    "(transport/1e6).plot()"
   ]
  },
  {
   "cell_type": "code",
   "execution_count": 30,
   "id": "e2d49927",
   "metadata": {},
   "outputs": [
    {
     "data": {
      "text/plain": [
       "[<matplotlib.lines.Line2D at 0x7f284c746f10>]"
      ]
     },
     "execution_count": 30,
     "metadata": {},
     "output_type": "execute_result"
    },
    {
     "data": {
      "image/png": "[encoded data removed]",
      "text/plain": [
       "<Figure size 432x288 with 1 Axes>"
      ]
     },
     "metadata": {
      "needs_background": "light"
     },
     "output_type": "display_data"
    }
   ],
   "source": [
    "fig, ax = plt.subplots(1,1)\n",
    "(transport_bar/1e6).plot(ax=ax,label='baratropic')\n",
    "(transport/1e6).plot(ax=ax,label='full')"
   ]
  },
  {
   "cell_type": "markdown",
   "id": "d2bdb9bf",
   "metadata": {},
   "source": [
    "The difference between the barotropic and full transport is larger than I thought it would be. I wonder if we could be loosing information by interpolating to the transect before computing the depth integration. That is - the interpolation isn't handling the masked data very well and so the interpolated results aren't as deep as the should be?\n",
    "\n",
    "Note: Smith et al uses a depth-averaged transport (ie the barotropic)"
   ]
  },
  {
   "cell_type": "markdown",
   "id": "6ebeabfd",
   "metadata": {},
   "source": [
    "## Check on interpolation of mask, e3t, etc along the transect"
   ]
  },
  {
   "cell_type": "code",
   "execution_count": 31,
   "id": "9a4c542e",
   "metadata": {},
   "outputs": [
    {
     "name": "stdout",
     "output_type": "stream",
     "text": [
      "[[0. 0. 0. ... 0. 0. 0.]\n",
      " [0. 0. 0. ... 0. 0. 0.]\n",
      " [0. 0. 0. ... 0. 0. 0.]\n",
      " ...\n",
      " [0. 0. 0. ... 0. 0. 0.]\n",
      " [0. 0. 0. ... 0. 0. 0.]\n",
      " [0. 0. 0. ... 0. 0. 0.]]\n"
     ]
    },
    {
     "data": {
      "text/plain": [
       "(500.0, 0.0)"
      ]
     },
     "execution_count": 31,
     "metadata": {},
     "output_type": "execute_result"
    },
    {
     "data": {
      "image/png": "[encoded data removed]",
      "text/plain": [
       "<Figure size 432x288 with 2 Axes>"
      ]
     },
     "metadata": {
      "needs_background": "light"
     },
     "output_type": "display_data"
    }
   ],
   "source": [
    "print(mask_interp.values)\n",
    "fig,ax = plt.subplots(1,1)\n",
    "u_interp.isel(time=0).plot(ax=ax)\n",
    "ax.set_ylim([500,0])"
   ]
  },
  {
   "cell_type": "code",
   "execution_count": 32,
   "id": "40ffd40e",
   "metadata": {},
   "outputs": [
    {
     "data": {
      "text/plain": [
       "(500.0, 0.0)"
      ]
     },
     "execution_count": 32,
     "metadata": {},
     "output_type": "execute_result"
    },
    {
     "data": {
      "image/png": "[encoded data removed]",
      "text/plain": [
       "<Figure size 432x288 with 2 Axes>"
      ]
     },
     "metadata": {
      "needs_background": "light"
     },
     "output_type": "display_data"
    }
   ],
   "source": [
    "fig,ax = plt.subplots(1,1)\n",
    "e3t_interp.plot(ax=ax)\n",
    "ax.set_ylim([500,0])"
   ]
  },
  {
   "cell_type": "code",
   "execution_count": 33,
   "id": "b77c5fa9",
   "metadata": {},
   "outputs": [
    {
     "data": {
      "text/plain": [
       "[<matplotlib.lines.Line2D at 0x7f284c430280>]"
      ]
     },
     "execution_count": 33,
     "metadata": {},
     "output_type": "execute_result"
    },
    {
     "data": {
      "image/png": "[encoded data removed]",
      "text/plain": [
       "<Figure size 432x288 with 1 Axes>"
      ]
     },
     "metadata": {
      "needs_background": "light"
     },
     "output_type": "display_data"
    }
   ],
   "source": [
    "depth_interp = interpolate_transect(mask.deptho, lons,lats)\n",
    "depth_interp.plot()"
   ]
  },
  {
   "cell_type": "code",
   "execution_count": 34,
   "id": "9e7eb174",
   "metadata": {},
   "outputs": [
    {
     "data": {
      "text/plain": [
       "[<matplotlib.lines.Line2D at 0x7f284c390cd0>]"
      ]
     },
     "execution_count": 34,
     "metadata": {},
     "output_type": "execute_result"
    },
    {
     "data": {
      "image/png": "[encoded data removed]",
      "text/plain": [
       "<Figure size 432x288 with 1 Axes>"
      ]
     },
     "metadata": {
      "needs_background": "light"
     },
     "output_type": "display_data"
    }
   ],
   "source": [
    "fig,ax=plt.subplots()\n",
    "depth = np.sum(e3t_interp*mask_interp, axis=0)\n",
    "depth.plot(ax=ax)\n",
    "depth_interp.plot(ax=ax)"
   ]
  },
  {
   "cell_type": "markdown",
   "id": "80040270",
   "metadata": {},
   "source": [
    "* Orange line is the deptho interpolated to the transect\n",
    "* Blue line depths calculated by summing the interpolated e3t variable. So yes, there could be a difference in the volume summed in each of these method."
   ]
  },
  {
   "cell_type": "code",
   "execution_count": 45,
   "id": "12e91096",
   "metadata": {},
   "outputs": [],
   "source": [
    "transect = vectorize_transect(lons, lats,  dir_east_perp, dir_north_perp)\n",
    "area1 = 0\n",
    "area2 = 0\n",
    "for i in range(len(transect)):\n",
    "    ref_vector = transect[i]\n",
    "    area1 += depth[i]*np.abs(ref_vector)\n",
    "    area2 += depth_interp[i]*np.abs(ref_vector) if ~np.isnan(depth_interp[i]) else 0"
   ]
  },
  {
   "cell_type": "code",
   "execution_count": 46,
   "id": "3d0f9b96",
   "metadata": {},
   "outputs": [
    {
     "name": "stdout",
     "output_type": "stream",
     "text": [
      "<xarray.DataArray ()>\n",
      "array(673761.72996662)\n",
      "Coordinates:\n",
      "    longitude  float64 -56.25\n",
      "    latitude   float64 51.91 <xarray.DataArray 'deptho' ()>\n",
      "array(773830.71064617)\n",
      "Coordinates:\n",
      "    longitude  float64 -56.21\n",
      "    latitude   float64 51.74\n"
     ]
    }
   ],
   "source": [
    "print(area1,area2)"
   ]
  },
  {
   "cell_type": "code",
   "execution_count": 47,
   "id": "3f594763",
   "metadata": {},
   "outputs": [
    {
     "data": {
      "text/html": [
       "<div><svg style=\"position: absolute; width: 0; height: 0; overflow: hidden\">\n",
       "<defs>\n",
       "<symbol id=\"icon-database\" viewBox=\"0 0 32 32\">\n",
       "<path d=\"M16 0c-8.837 0-16 2.239-16 5v4c0 2.761 7.163 5 16 5s16-2.239 16-5v-4c0-2.761-7.163-5-16-5z\"></path>\n",
       "<path d=\"M16 17c-8.837 0-16-2.239-16-5v6c0 2.761 7.163 5 16 5s16-2.239 16-5v-6c0 2.761-7.163 5-16 5z\"></path>\n",
       "<path d=\"M16 26c-8.837 0-16-2.239-16-5v6c0 2.761 7.163 5 16 5s16-2.239 16-5v-6c0 2.761-7.163 5-16 5z\"></path>\n",
       "</symbol>\n",
       "<symbol id=\"icon-file-text2\" viewBox=\"0 0 32 32\">\n",
       "<path d=\"M28.681 7.159c-0.694-0.947-1.662-2.053-2.724-3.116s-2.169-2.030-3.116-2.724c-1.612-1.182-2.393-1.319-2.841-1.319h-15.5c-1.378 0-2.5 1.121-2.5 2.5v27c0 1.378 1.122 2.5 2.5 2.5h23c1.378 0 2.5-1.122 2.5-2.5v-19.5c0-0.448-0.137-1.23-1.319-2.841zM24.543 5.457c0.959 0.959 1.712 1.825 2.268 2.543h-4.811v-4.811c0.718 0.556 1.584 1.309 2.543 2.268zM28 29.5c0 0.271-0.229 0.5-0.5 0.5h-23c-0.271 0-0.5-0.229-0.5-0.5v-27c0-0.271 0.229-0.5 0.5-0.5 0 0 15.499-0 15.5 0v7c0 0.552 0.448 1 1 1h7v19.5z\"></path>\n",
       "<path d=\"M23 26h-14c-0.552 0-1-0.448-1-1s0.448-1 1-1h14c0.552 0 1 0.448 1 1s-0.448 1-1 1z\"></path>\n",
       "<path d=\"M23 22h-14c-0.552 0-1-0.448-1-1s0.448-1 1-1h14c0.552 0 1 0.448 1 1s-0.448 1-1 1z\"></path>\n",
       "<path d=\"M23 18h-14c-0.552 0-1-0.448-1-1s0.448-1 1-1h14c0.552 0 1 0.448 1 1s-0.448 1-1 1z\"></path>\n",
       "</symbol>\n",
       "</defs>\n",
       "</svg>\n",
       "<style>/* CSS stylesheet for displaying xarray objects in jupyterlab.\n",
       " *\n",
       " */\n",
       "\n",
       ":root {\n",
       "  --xr-font-color0: var(--jp-content-font-color0, rgba(0, 0, 0, 1));\n",
       "  --xr-font-color2: var(--jp-content-font-color2, rgba(0, 0, 0, 0.54));\n",
       "  --xr-font-color3: var(--jp-content-font-color3, rgba(0, 0, 0, 0.38));\n",
       "  --xr-border-color: var(--jp-border-color2, #e0e0e0);\n",
       "  --xr-disabled-color: var(--jp-layout-color3, #bdbdbd);\n",
       "  --xr-background-color: var(--jp-layout-color0, white);\n",
       "  --xr-background-color-row-even: var(--jp-layout-color1, white);\n",
       "  --xr-background-color-row-odd: var(--jp-layout-color2, #eeeeee);\n",
       "}\n",
       "\n",
       "html[theme=dark],\n",
       "body.vscode-dark {\n",
       "  --xr-font-color0: rgba(255, 255, 255, 1);\n",
       "  --xr-font-color2: rgba(255, 255, 255, 0.54);\n",
       "  --xr-font-color3: rgba(255, 255, 255, 0.38);\n",
       "  --xr-border-color: #1F1F1F;\n",
       "  --xr-disabled-color: #515151;\n",
       "  --xr-background-color: #111111;\n",
       "  --xr-background-color-row-even: #111111;\n",
       "  --xr-background-color-row-odd: #313131;\n",
       "}\n",
       "\n",
       ".xr-wrap {\n",
       "  display: block;\n",
       "  min-width: 300px;\n",
       "  max-width: 700px;\n",
       "}\n",
       "\n",
       ".xr-text-repr-fallback {\n",
       "  /* fallback to plain text repr when CSS is not injected (untrusted notebook) */\n",
       "  display: none;\n",
       "}\n",
       "\n",
       ".xr-header {\n",
       "  padding-top: 6px;\n",
       "  padding-bottom: 6px;\n",
       "  margin-bottom: 4px;\n",
       "  border-bottom: solid 1px var(--xr-border-color);\n",
       "}\n",
       "\n",
       ".xr-header > div,\n",
       ".xr-header > ul {\n",
       "  display: inline;\n",
       "  margin-top: 0;\n",
       "  margin-bottom: 0;\n",
       "}\n",
       "\n",
       ".xr-obj-type,\n",
       ".xr-array-name {\n",
       "  margin-left: 2px;\n",
       "  margin-right: 10px;\n",
       "}\n",
       "\n",
       ".xr-obj-type {\n",
       "  color: var(--xr-font-color2);\n",
       "}\n",
       "\n",
       ".xr-sections {\n",
       "  padding-left: 0 !important;\n",
       "  display: grid;\n",
       "  grid-template-columns: 150px auto auto 1fr 20px 20px;\n",
       "}\n",
       "\n",
       ".xr-section-item {\n",
       "  display: contents;\n",
       "}\n",
       "\n",
       ".xr-section-item input {\n",
       "  display: none;\n",
       "}\n",
       "\n",
       ".xr-section-item input + label {\n",
       "  color: var(--xr-disabled-color);\n",
       "}\n",
       "\n",
       ".xr-section-item input:enabled + label {\n",
       "  cursor: pointer;\n",
       "  color: var(--xr-font-color2);\n",
       "}\n",
       "\n",
       ".xr-section-item input:enabled + label:hover {\n",
       "  color: var(--xr-font-color0);\n",
       "}\n",
       "\n",
       ".xr-section-summary {\n",
       "  grid-column: 1;\n",
       "  color: var(--xr-font-color2);\n",
       "  font-weight: 500;\n",
       "}\n",
       "\n",
       ".xr-section-summary > span {\n",
       "  display: inline-block;\n",
       "  padding-left: 0.5em;\n",
       "}\n",
       "\n",
       ".xr-section-summary-in:disabled + label {\n",
       "  color: var(--xr-font-color2);\n",
       "}\n",
       "\n",
       ".xr-section-summary-in + label:before {\n",
       "  display: inline-block;\n",
       "  content: '►';\n",
       "  font-size: 11px;\n",
       "  width: 15px;\n",
       "  text-align: center;\n",
       "}\n",
       "\n",
       ".xr-section-summary-in:disabled + label:before {\n",
       "  color: var(--xr-disabled-color);\n",
       "}\n",
       "\n",
       ".xr-section-summary-in:checked + label:before {\n",
       "  content: '▼';\n",
       "}\n",
       "\n",
       ".xr-section-summary-in:checked + label > span {\n",
       "  display: none;\n",
       "}\n",
       "\n",
       ".xr-section-summary,\n",
       ".xr-section-inline-details {\n",
       "  padding-top: 4px;\n",
       "  padding-bottom: 4px;\n",
       "}\n",
       "\n",
       ".xr-section-inline-details {\n",
       "  grid-column: 2 / -1;\n",
       "}\n",
       "\n",
       ".xr-section-details {\n",
       "  display: none;\n",
       "  grid-column: 1 / -1;\n",
       "  margin-bottom: 5px;\n",
       "}\n",
       "\n",
       ".xr-section-summary-in:checked ~ .xr-section-details {\n",
       "  display: contents;\n",
       "}\n",
       "\n",
       ".xr-array-wrap {\n",
       "  grid-column: 1 / -1;\n",
       "  display: grid;\n",
       "  grid-template-columns: 20px auto;\n",
       "}\n",
       "\n",
       ".xr-array-wrap > label {\n",
       "  grid-column: 1;\n",
       "  vertical-align: top;\n",
       "}\n",
       "\n",
       ".xr-preview {\n",
       "  color: var(--xr-font-color3);\n",
       "}\n",
       "\n",
       ".xr-array-preview,\n",
       ".xr-array-data {\n",
       "  padding: 0 5px !important;\n",
       "  grid-column: 2;\n",
       "}\n",
       "\n",
       ".xr-array-data,\n",
       ".xr-array-in:checked ~ .xr-array-preview {\n",
       "  display: none;\n",
       "}\n",
       "\n",
       ".xr-array-in:checked ~ .xr-array-data,\n",
       ".xr-array-preview {\n",
       "  display: inline-block;\n",
       "}\n",
       "\n",
       ".xr-dim-list {\n",
       "  display: inline-block !important;\n",
       "  list-style: none;\n",
       "  padding: 0 !important;\n",
       "  margin: 0;\n",
       "}\n",
       "\n",
       ".xr-dim-list li {\n",
       "  display: inline-block;\n",
       "  padding: 0;\n",
       "  margin: 0;\n",
       "}\n",
       "\n",
       ".xr-dim-list:before {\n",
       "  content: '(';\n",
       "}\n",
       "\n",
       ".xr-dim-list:after {\n",
       "  content: ')';\n",
       "}\n",
       "\n",
       ".xr-dim-list li:not(:last-child):after {\n",
       "  content: ',';\n",
       "  padding-right: 5px;\n",
       "}\n",
       "\n",
       ".xr-has-index {\n",
       "  font-weight: bold;\n",
       "}\n",
       "\n",
       ".xr-var-list,\n",
       ".xr-var-item {\n",
       "  display: contents;\n",
       "}\n",
       "\n",
       ".xr-var-item > div,\n",
       ".xr-var-item label,\n",
       ".xr-var-item > .xr-var-name span {\n",
       "  background-color: var(--xr-background-color-row-even);\n",
       "  margin-bottom: 0;\n",
       "}\n",
       "\n",
       ".xr-var-item > .xr-var-name:hover span {\n",
       "  padding-right: 5px;\n",
       "}\n",
       "\n",
       ".xr-var-list > li:nth-child(odd) > div,\n",
       ".xr-var-list > li:nth-child(odd) > label,\n",
       ".xr-var-list > li:nth-child(odd) > .xr-var-name span {\n",
       "  background-color: var(--xr-background-color-row-odd);\n",
       "}\n",
       "\n",
       ".xr-var-name {\n",
       "  grid-column: 1;\n",
       "}\n",
       "\n",
       ".xr-var-dims {\n",
       "  grid-column: 2;\n",
       "}\n",
       "\n",
       ".xr-var-dtype {\n",
       "  grid-column: 3;\n",
       "  text-align: right;\n",
       "  color: var(--xr-font-color2);\n",
       "}\n",
       "\n",
       ".xr-var-preview {\n",
       "  grid-column: 4;\n",
       "}\n",
       "\n",
       ".xr-var-name,\n",
       ".xr-var-dims,\n",
       ".xr-var-dtype,\n",
       ".xr-preview,\n",
       ".xr-attrs dt {\n",
       "  white-space: nowrap;\n",
       "  overflow: hidden;\n",
       "  text-overflow: ellipsis;\n",
       "  padding-right: 10px;\n",
       "}\n",
       "\n",
       ".xr-var-name:hover,\n",
       ".xr-var-dims:hover,\n",
       ".xr-var-dtype:hover,\n",
       ".xr-attrs dt:hover {\n",
       "  overflow: visible;\n",
       "  width: auto;\n",
       "  z-index: 1;\n",
       "}\n",
       "\n",
       ".xr-var-attrs,\n",
       ".xr-var-data {\n",
       "  display: none;\n",
       "  background-color: var(--xr-background-color) !important;\n",
       "  padding-bottom: 5px !important;\n",
       "}\n",
       "\n",
       ".xr-var-attrs-in:checked ~ .xr-var-attrs,\n",
       ".xr-var-data-in:checked ~ .xr-var-data {\n",
       "  display: block;\n",
       "}\n",
       "\n",
       ".xr-var-data > table {\n",
       "  float: right;\n",
       "}\n",
       "\n",
       ".xr-var-name span,\n",
       ".xr-var-data,\n",
       ".xr-attrs {\n",
       "  padding-left: 25px !important;\n",
       "}\n",
       "\n",
       ".xr-attrs,\n",
       ".xr-var-attrs,\n",
       ".xr-var-data {\n",
       "  grid-column: 1 / -1;\n",
       "}\n",
       "\n",
       "dl.xr-attrs {\n",
       "  padding: 0;\n",
       "  margin: 0;\n",
       "  display: grid;\n",
       "  grid-template-columns: 125px auto;\n",
       "}\n",
       "\n",
       ".xr-attrs dt,\n",
       ".xr-attrs dd {\n",
       "  padding: 0;\n",
       "  margin: 0;\n",
       "  float: left;\n",
       "  padding-right: 10px;\n",
       "  width: auto;\n",
       "}\n",
       "\n",
       ".xr-attrs dt {\n",
       "  font-weight: normal;\n",
       "  grid-column: 1;\n",
       "}\n",
       "\n",
       ".xr-attrs dt:hover span {\n",
       "  display: inline-block;\n",
       "  background: var(--xr-background-color);\n",
       "  padding-right: 10px;\n",
       "}\n",
       "\n",
       ".xr-attrs dd {\n",
       "  grid-column: 2;\n",
       "  white-space: pre-wrap;\n",
       "  word-break: break-all;\n",
       "}\n",
       "\n",
       ".xr-icon-database,\n",
       ".xr-icon-file-text2 {\n",
       "  display: inline-block;\n",
       "  vertical-align: middle;\n",
       "  width: 1em;\n",
       "  height: 1.5em !important;\n",
       "  stroke-width: 0;\n",
       "  stroke: currentColor;\n",
       "  fill: currentColor;\n",
       "}\n",
       "</style><pre class='xr-text-repr-fallback'>&lt;xarray.DataArray ()&gt;\n",
       "array(0.12931637)\n",
       "Coordinates:\n",
       "    longitude  float64 -56.21\n",
       "    latitude   float64 51.74</pre><div class='xr-wrap' hidden><div class='xr-header'><div class='xr-obj-type'>xarray.DataArray</div><div class='xr-array-name'></div></div><ul class='xr-sections'><li class='xr-section-item'><div class='xr-array-wrap'><input id='section-2873dec0-b011-4288-8ede-31b0a0f3aa4a' class='xr-array-in' type='checkbox' checked><label for='section-2873dec0-b011-4288-8ede-31b0a0f3aa4a' title='Show/hide data repr'><svg class='icon xr-icon-database'><use xlink:href='#icon-database'></use></svg></label><div class='xr-array-preview xr-preview'><span>0.1293</span></div><div class='xr-array-data'><pre>array(0.12931637)</pre></div></div></li><li class='xr-section-item'><input id='section-6e4b517d-2163-4952-8d55-18e1d9e2b5b2' class='xr-section-summary-in' type='checkbox'  checked><label for='section-6e4b517d-2163-4952-8d55-18e1d9e2b5b2' class='xr-section-summary' >Coordinates: <span>(2)</span></label><div class='xr-section-inline-details'></div><div class='xr-section-details'><ul class='xr-var-list'><li class='xr-var-item'><div class='xr-var-name'><span>longitude</span></div><div class='xr-var-dims'>()</div><div class='xr-var-dtype'>float64</div><div class='xr-var-preview xr-preview'>-56.21</div><input id='attrs-fe52c27a-88ca-47aa-8547-4bf919231102' class='xr-var-attrs-in' type='checkbox' disabled><label for='attrs-fe52c27a-88ca-47aa-8547-4bf919231102' title='Show/Hide attributes'><svg class='icon xr-icon-file-text2'><use xlink:href='#icon-file-text2'></use></svg></label><input id='data-139e4a3d-590a-4ec0-8905-17477e39d06b' class='xr-var-data-in' type='checkbox'><label for='data-139e4a3d-590a-4ec0-8905-17477e39d06b' title='Show/Hide data repr'><svg class='icon xr-icon-database'><use xlink:href='#icon-database'></use></svg></label><div class='xr-var-attrs'><dl class='xr-attrs'></dl></div><div class='xr-var-data'><pre>array(-56.21316294)</pre></div></li><li class='xr-var-item'><div class='xr-var-name'><span>latitude</span></div><div class='xr-var-dims'>()</div><div class='xr-var-dtype'>float64</div><div class='xr-var-preview xr-preview'>51.74</div><input id='attrs-9d786f91-8c1a-4220-b47f-550d6119c2de' class='xr-var-attrs-in' type='checkbox' disabled><label for='attrs-9d786f91-8c1a-4220-b47f-550d6119c2de' title='Show/Hide attributes'><svg class='icon xr-icon-file-text2'><use xlink:href='#icon-file-text2'></use></svg></label><input id='data-8fc4839b-10a3-4759-a9de-ea5083877de7' class='xr-var-data-in' type='checkbox'><label for='data-8fc4839b-10a3-4759-a9de-ea5083877de7' title='Show/Hide data repr'><svg class='icon xr-icon-database'><use xlink:href='#icon-database'></use></svg></label><div class='xr-var-attrs'><dl class='xr-attrs'></dl></div><div class='xr-var-data'><pre>array(51.74303476)</pre></div></li></ul></div></li><li class='xr-section-item'><input id='section-2d3dc22a-0de7-447f-95c0-57a686c9a005' class='xr-section-summary-in' type='checkbox' disabled ><label for='section-2d3dc22a-0de7-447f-95c0-57a686c9a005' class='xr-section-summary'  title='Expand/collapse section'>Attributes: <span>(0)</span></label><div class='xr-section-inline-details'></div><div class='xr-section-details'><dl class='xr-attrs'></dl></div></li></ul></div></div>"
      ],
      "text/plain": [
       "<xarray.DataArray ()>\n",
       "array(0.12931637)\n",
       "Coordinates:\n",
       "    longitude  float64 -56.21\n",
       "    latitude   float64 51.74"
      ]
     },
     "execution_count": 47,
     "metadata": {},
     "output_type": "execute_result"
    }
   ],
   "source": [
    "(area2-area1)/area2"
   ]
  },
  {
   "cell_type": "code",
   "execution_count": 49,
   "id": "cab101d9",
   "metadata": {},
   "outputs": [],
   "source": [
    "rel_diff = (transport_bar - transport)/transport_bar"
   ]
  },
  {
   "cell_type": "code",
   "execution_count": 50,
   "id": "6c509192",
   "metadata": {},
   "outputs": [
    {
     "data": {
      "text/plain": [
       "array([ 0.36359124,  0.36673824,  0.36612025,  0.36546527,  0.36815014,\n",
       "        0.36456897,  0.36732568,  0.37838563,  0.36581085, -7.28380546,\n",
       "        0.63164072,  0.32377614,  0.2950422 ,  0.38174302,  0.38403068,\n",
       "        0.37765194,  0.3786992 ,  0.37532768,  0.36845361,  0.37457231,\n",
       "        0.37710453,  0.38215876,  0.38232118,  0.38013663,  0.38002106,\n",
       "        0.37597031,  0.37245928,  0.45845792,  0.54052963,  0.40198423,\n",
       "        0.38190117])"
      ]
     },
     "execution_count": 50,
     "metadata": {},
     "output_type": "execute_result"
    }
   ],
   "source": [
    "rel_diff.values"
   ]
  },
  {
   "cell_type": "markdown",
   "id": "798edd25",
   "metadata": {},
   "source": [
    "So there is a ~13% difference in the area of the cross section and closer to 40% difference between the full transport and depth=averaged transport.\n",
    "\n",
    "I wonder if there is a better way to interpolate to that transect. \n",
    "\n",
    "Regardless, the depth-averaged approach is typical and I will use that."
   ]
  },
  {
   "cell_type": "code",
   "execution_count": null,
   "id": "0fa7ab77",
   "metadata": {},
   "outputs": [],
   "source": []
  }
 ],
 "metadata": {
  "kernelspec": {
   "display_name": "Python 3 (ipykernel)",
   "language": "python",
   "name": "python3"
  },
  "language_info": {
   "codemirror_mode": {
    "name": "ipython",
    "version": 3
   },
   "file_extension": ".py",
   "mimetype": "text/x-python",
   "name": "python",
   "nbconvert_exporter": "python",
   "pygments_lexer": "ipython3",
   "version": "3.9.7"
  }
 },
 "nbformat": 4,
 "nbformat_minor": 5
}
