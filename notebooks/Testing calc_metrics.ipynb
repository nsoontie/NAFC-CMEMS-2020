{
 "cells": [
  {
   "cell_type": "code",
   "execution_count": 1,
   "id": "1b4ade2d",
   "metadata": {},
   "outputs": [],
   "source": [
    "\n",
    "import matplotlib.pyplot as plt\n",
    "import xarray as xr\n",
    "\n",
    "%matplotlib inline"
   ]
  },
  {
   "cell_type": "code",
   "execution_count": 2,
   "id": "704f6ba8",
   "metadata": {},
   "outputs": [],
   "source": [
    "month='07'\n",
    "year = '2019'\n",
    "\n",
    "clim = '/data/cmems/my.cmems-du.eu/GLOBAL_MULTIYEAR_PHY_001_030/cmems_mod_glo_phy_my_0.083-climatology_P1M-m/mercatorglorys12v1_gl12_mean_1993_2016_{}.nc'.format(month)\n",
    "glorys = '/data/cmems/my.cmems-du.eu/GLOBAL_MULTIYEAR_PHY_001_030/cmems_mod_glo_phy_my_0.083_P1M-m/{}/mercatorglorys12v1_gl12_mean_{}{}.nc'.format(year,year,month)"
   ]
  },
  {
   "cell_type": "code",
   "execution_count": 3,
   "id": "f7854edc",
   "metadata": {},
   "outputs": [],
   "source": [
    "dclim = xr.open_dataset(clim)\n",
    "dglorys = xr.open_dataset(glorys)"
   ]
  },
  {
   "cell_type": "code",
   "execution_count": 4,
   "id": "90462613",
   "metadata": {},
   "outputs": [],
   "source": [
    "# Flemish cap coords\n",
    "lat_min=47\n",
    "lat_max=47\n",
    "lon_min=-52.83\n",
    "lon_max=-42"
   ]
  },
  {
   "cell_type": "code",
   "execution_count": 5,
   "id": "0ff26d64",
   "metadata": {},
   "outputs": [],
   "source": [
    "dclim=dclim.sel(latitude=slice(lat_min,lat_max), longitude=slice(lon_min,lon_max)).squeeze()\n",
    "depth_clim = dclim.depth.values\n",
    "longitude_clim = dclim.longitude.values"
   ]
  },
  {
   "cell_type": "code",
   "execution_count": 6,
   "id": "50ba7408",
   "metadata": {},
   "outputs": [],
   "source": [
    "dglorys=dglorys.sel(latitude=slice(lat_min,lat_max), longitude=slice(lon_min,lon_max)).squeeze()\n",
    "depth_glorys = dglorys.depth.values\n",
    "longitude_glorys = dglorys.longitude.values"
   ]
  },
  {
   "cell_type": "code",
   "execution_count": 7,
   "id": "d81a118b",
   "metadata": {},
   "outputs": [],
   "source": [
    "# Import caclMetrics package\n",
    "import sys\n",
    "sys.path.insert(0, \"/home/handres/scripts/packages/modelData\")\n",
    "import calc_metrics"
   ]
  },
  {
   "cell_type": "code",
   "execution_count": 8,
   "id": "a99b100a",
   "metadata": {},
   "outputs": [
    {
     "data": {
      "image/png": "[encoded data removed]",
      "text/plain": [
       "<Figure size 360x288 with 2 Axes>"
      ]
     },
     "metadata": {
      "needs_background": "light"
     },
     "output_type": "display_data"
    },
    {
     "name": "stdout",
     "output_type": "stream",
     "text": [
      "goodvals  3619\n",
      "mindiff  -2.7444696\n",
      "maxdiff  1.1565294\n",
      "meandiff  -0.78938586\n",
      "rmse 66.31149\n"
     ]
    }
   ],
   "source": [
    "num, minv, maxv, meanv, rmse, rmse_per_cell = calc_metrics.calc_metrics2D(dglorys.thetao.values, dclim.thetao.values, \n",
    "                                                                          longitude_glorys, depth_glorys,\n",
    "                                                                          longitude_clim, depth_clim,)"
   ]
  },
  {
   "cell_type": "code",
   "execution_count": null,
   "id": "9ba5ddeb",
   "metadata": {},
   "outputs": [],
   "source": []
  }
 ],
 "metadata": {
  "kernelspec": {
   "display_name": "Python 3 (ipykernel)",
   "language": "python",
   "name": "python3"
  },
  "language_info": {
   "codemirror_mode": {
    "name": "ipython",
    "version": 3
   },
   "file_extension": ".py",
   "mimetype": "text/x-python",
   "name": "python",
   "nbconvert_exporter": "python",
   "pygments_lexer": "ipython3",
   "version": "3.9.7"
  }
 },
 "nbformat": 4,
 "nbformat_minor": 5
}
